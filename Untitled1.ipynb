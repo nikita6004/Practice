{
 "cells": [
  {
   "cell_type": "code",
   "execution_count": 1,
   "id": "c588fcbd",
   "metadata": {},
   "outputs": [
    {
     "name": "stdout",
     "output_type": "stream",
     "text": [
      "invoer: 10\n",
      "Maximum number is 16\n"
     ]
    }
   ],
   "source": [
    "def collatz(number):\n",
    "    if number % 2 == 0:\n",
    "        return number // 2\n",
    "    else:\n",
    "        return (3 * number) + 1\n",
    "\n",
    "\n",
    "try:\n",
    "    n = int(input('invoer: '))\n",
    "    if n <= 0:\n",
    "        raise ValueError\n",
    "except ValueError:\n",
    "    print('Enter a valid positive integer')\n",
    "\n",
    "\n",
    "max_num = 0 \n",
    "\n",
    "while n != 1:\n",
    "    \n",
    "    max_num = max(n, max_num)\n",
    "    n = collatz(int(n))\n",
    "\n",
    "print('Maximum number is {}'.format(max_num))"
   ]
  },
  {
   "cell_type": "code",
   "execution_count": null,
   "id": "f6242752",
   "metadata": {},
   "outputs": [],
   "source": []
  }
 ],
 "metadata": {
  "kernelspec": {
   "display_name": "Python 3 (ipykernel)",
   "language": "python",
   "name": "python3"
  },
  "language_info": {
   "codemirror_mode": {
    "name": "ipython",
    "version": 3
   },
   "file_extension": ".py",
   "mimetype": "text/x-python",
   "name": "python",
   "nbconvert_exporter": "python",
   "pygments_lexer": "ipython3",
   "version": "3.9.13"
  }
 },
 "nbformat": 4,
 "nbformat_minor": 5
}
