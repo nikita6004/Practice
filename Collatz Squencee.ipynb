{
 "cells": [
  {
   "cell_type": "code",
   "execution_count": 11,
   "id": "663b6b7d",
   "metadata": {},
   "outputs": [
    {
     "name": "stdout",
     "output_type": "stream",
     "text": [
      "Enter a number: 3\n"
     ]
    },
    {
     "data": {
      "text/plain": [
       "[3, 10, 5.0, 16.0, 8.0, 4.0, 2.0, 1.0]"
      ]
     },
     "execution_count": 11,
     "metadata": {},
     "output_type": "execute_result"
    }
   ],
   "source": [
    "l = input(\"Enter a number: \")\n",
    "l = int(l)\n",
    "i = [l]\n",
    "\n",
    "def collatz(n):\n",
    "    if n==1:\n",
    "        return i\n",
    "    \n",
    "    if n%2 == 0:\n",
    "        n = n/2\n",
    "        i.append(n)\n",
    "        return collatz(n)\n",
    "    \n",
    "    else:\n",
    "        n = ((n*3) + 1) \n",
    "        i.append(n)\n",
    "        return collatz(n)\n",
    "    print(i)\n",
    "    \n",
    "collatz(l)"
   ]
  },
  {
   "cell_type": "code",
   "execution_count": null,
   "id": "f0f52b7b",
   "metadata": {},
   "outputs": [],
   "source": [
    "def maxlengths(m):\n",
    "    \n"
   ]
  }
 ],
 "metadata": {
  "kernelspec": {
   "display_name": "Python 3 (ipykernel)",
   "language": "python",
   "name": "python3"
  },
  "language_info": {
   "codemirror_mode": {
    "name": "ipython",
    "version": 3
   },
   "file_extension": ".py",
   "mimetype": "text/x-python",
   "name": "python",
   "nbconvert_exporter": "python",
   "pygments_lexer": "ipython3",
   "version": "3.9.13"
  }
 },
 "nbformat": 4,
 "nbformat_minor": 5
}
